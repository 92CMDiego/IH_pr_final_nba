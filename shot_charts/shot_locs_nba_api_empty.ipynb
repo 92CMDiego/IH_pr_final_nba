{
 "cells": [
  {
   "cell_type": "code",
   "execution_count": 1,
   "metadata": {},
   "outputs": [],
   "source": [
    "# Import packages\n",
    "from nba_api.stats.endpoints import shotchartdetail\n",
    "import json\n",
    "import requests\n",
    "import pandas as pd\n",
    "import matplotlib as mpl\n",
    "import matplotlib.pyplot as plt"
   ]
  },
  {
   "cell_type": "code",
   "execution_count": 33,
   "metadata": {},
   "outputs": [],
   "source": [
    "# from nba_api.stats.static import teams\n",
    "\n",
    "# nba_teams = teams.get_teams()"
   ]
  },
  {
   "cell_type": "code",
   "execution_count": 34,
   "metadata": {},
   "outputs": [],
   "source": [
    "# from nba_api.stats.static import players\n",
    "\n",
    "# nba_players = players.get_players()"
   ]
  },
  {
   "cell_type": "code",
   "execution_count": 35,
   "metadata": {},
   "outputs": [],
   "source": [
    "# nba_players"
   ]
  },
  {
   "cell_type": "code",
   "execution_count": 44,
   "metadata": {},
   "outputs": [],
   "source": [
    "# Load teams file\n",
    "teams = json.loads(requests.get('https://raw.githubusercontent.com/bttmly/nba/master/data/teams.json').text)\n",
    "# Load players file\n",
    "players = json.loads(requests.get('https://raw.githubusercontent.com/bttmly/nba/master/data/players.json').text)"
   ]
  },
  {
   "cell_type": "code",
   "execution_count": 45,
   "metadata": {},
   "outputs": [],
   "source": [
    "# Get team ID based on team name\n",
    "def get_team_id(team):\n",
    "  for team in teams:\n",
    "    if team['teamName'] == team:\n",
    "      return team['teamId']\n",
    "  return -1\n",
    "# Get player ID based on player name\n",
    "def get_player_id(first, last):\n",
    "  for player in players:\n",
    "    if player['firstName'] == first and player['lastName'] == last:\n",
    "      return player['playerId']\n",
    "  return -1"
   ]
  },
  {
   "cell_type": "code",
   "execution_count": 46,
   "metadata": {},
   "outputs": [],
   "source": [
    "# Create JSON request\n",
    "shot_json = shotchartdetail.ShotChartDetail(\n",
    "            team_id = get_team_id('Golden State Warriors'),\n",
    "            player_id = get_player_id('Stephen', 'Curry'),\n",
    "            context_measure_simple = 'PTS',\n",
    "            season_nullable = '2015-16',\n",
    "            season_type_all_star = 'Regular Season')"
   ]
  },
  {
   "cell_type": "code",
   "execution_count": 47,
   "metadata": {},
   "outputs": [
    {
     "data": {
      "text/plain": [
       "<nba_api.stats.endpoints.shotchartdetail.ShotChartDetail at 0x16aece54290>"
      ]
     },
     "execution_count": 47,
     "metadata": {},
     "output_type": "execute_result"
    }
   ],
   "source": [
    "shot_json"
   ]
  },
  {
   "cell_type": "code",
   "execution_count": 48,
   "metadata": {},
   "outputs": [],
   "source": [
    "# Load data into a Python dictionary\n",
    "shot_data = json.loads(shot_json.get_json())"
   ]
  },
  {
   "cell_type": "code",
   "execution_count": 49,
   "metadata": {},
   "outputs": [
    {
     "data": {
      "text/plain": [
       "{'resource': 'shotchartdetail',\n",
       " 'parameters': {'LeagueID': '00',\n",
       "  'Season': '2015-16',\n",
       "  'SeasonType': 'Regular Season',\n",
       "  'TeamID': -1,\n",
       "  'PlayerID': 201939,\n",
       "  'GameID': None,\n",
       "  'Outcome': None,\n",
       "  'Location': None,\n",
       "  'Month': 0,\n",
       "  'SeasonSegment': None,\n",
       "  'DateFrom': None,\n",
       "  'DateTo': None,\n",
       "  'OpponentTeamID': 0,\n",
       "  'VsConference': None,\n",
       "  'VsDivision': None,\n",
       "  'Position': None,\n",
       "  'RookieYear': None,\n",
       "  'GameSegment': None,\n",
       "  'Period': 0,\n",
       "  'LastNGames': 0,\n",
       "  'ClutchTime': None,\n",
       "  'AheadBehind': None,\n",
       "  'PointDiff': None,\n",
       "  'RangeType': None,\n",
       "  'StartPeriod': None,\n",
       "  'EndPeriod': None,\n",
       "  'StartRange': None,\n",
       "  'EndRange': None,\n",
       "  'ContextFilter': '',\n",
       "  'ContextMeasure': 'PTS'},\n",
       " 'resultSets': [{'name': 'Shot_Chart_Detail',\n",
       "   'headers': ['GRID_TYPE',\n",
       "    'GAME_ID',\n",
       "    'GAME_EVENT_ID',\n",
       "    'PLAYER_ID',\n",
       "    'PLAYER_NAME',\n",
       "    'TEAM_ID',\n",
       "    'TEAM_NAME',\n",
       "    'PERIOD',\n",
       "    'MINUTES_REMAINING',\n",
       "    'SECONDS_REMAINING',\n",
       "    'EVENT_TYPE',\n",
       "    'ACTION_TYPE',\n",
       "    'SHOT_TYPE',\n",
       "    'SHOT_ZONE_BASIC',\n",
       "    'SHOT_ZONE_AREA',\n",
       "    'SHOT_ZONE_RANGE',\n",
       "    'SHOT_DISTANCE',\n",
       "    'LOC_X',\n",
       "    'LOC_Y',\n",
       "    'SHOT_ATTEMPTED_FLAG',\n",
       "    'SHOT_MADE_FLAG',\n",
       "    'GAME_DATE',\n",
       "    'HTM',\n",
       "    'VTM'],\n",
       "   'rowSet': []},\n",
       "  {'name': 'LeagueAverages',\n",
       "   'headers': ['GRID_TYPE',\n",
       "    'SHOT_ZONE_BASIC',\n",
       "    'SHOT_ZONE_AREA',\n",
       "    'SHOT_ZONE_RANGE',\n",
       "    'FGA',\n",
       "    'FGM',\n",
       "    'FG_PCT'],\n",
       "   'rowSet': [['League Averages',\n",
       "     'Above the Break 3',\n",
       "     'Back Court(BC)',\n",
       "     'Back Court Shot',\n",
       "     4,\n",
       "     4,\n",
       "     1.0],\n",
       "    ['League Averages',\n",
       "     'Above the Break 3',\n",
       "     'Center(C)',\n",
       "     '24+ ft.',\n",
       "     3746,\n",
       "     3746,\n",
       "     1.0],\n",
       "    ['League Averages',\n",
       "     'Above the Break 3',\n",
       "     'Left Side Center(LC)',\n",
       "     '24+ ft.',\n",
       "     5802,\n",
       "     5802,\n",
       "     1.0],\n",
       "    ['League Averages',\n",
       "     'Above the Break 3',\n",
       "     'Right Side Center(RC)',\n",
       "     '24+ ft.',\n",
       "     5597,\n",
       "     5597,\n",
       "     1.0],\n",
       "    ['League Averages',\n",
       "     'Backcourt',\n",
       "     'Back Court(BC)',\n",
       "     'Back Court Shot',\n",
       "     17,\n",
       "     17,\n",
       "     1.0],\n",
       "    ['League Averages',\n",
       "     'In The Paint (Non-RA)',\n",
       "     'Center(C)',\n",
       "     '8-16 ft.',\n",
       "     2889,\n",
       "     2889,\n",
       "     1.0],\n",
       "    ['League Averages',\n",
       "     'In The Paint (Non-RA)',\n",
       "     'Center(C)',\n",
       "     'Less Than 8 ft.',\n",
       "     7561,\n",
       "     7561,\n",
       "     1.0],\n",
       "    ['League Averages',\n",
       "     'In The Paint (Non-RA)',\n",
       "     'Left Side(L)',\n",
       "     '8-16 ft.',\n",
       "     842,\n",
       "     842,\n",
       "     1.0],\n",
       "    ['League Averages',\n",
       "     'In The Paint (Non-RA)',\n",
       "     'Right Side(R)',\n",
       "     '8-16 ft.',\n",
       "     799,\n",
       "     799,\n",
       "     1.0],\n",
       "    ['League Averages',\n",
       "     'Left Corner 3',\n",
       "     'Left Side(L)',\n",
       "     '24+ ft.',\n",
       "     2939,\n",
       "     2939,\n",
       "     1.0],\n",
       "    ['League Averages',\n",
       "     'Mid-Range',\n",
       "     'Center(C)',\n",
       "     '16-24 ft.',\n",
       "     2897,\n",
       "     2897,\n",
       "     1.0],\n",
       "    ['League Averages', 'Mid-Range', 'Center(C)', '8-16 ft.', 987, 987, 1.0],\n",
       "    ['League Averages',\n",
       "     'Mid-Range',\n",
       "     'Left Side Center(LC)',\n",
       "     '16-24 ft.',\n",
       "     3066,\n",
       "     3066,\n",
       "     1.0],\n",
       "    ['League Averages',\n",
       "     'Mid-Range',\n",
       "     'Left Side(L)',\n",
       "     '16-24 ft.',\n",
       "     2173,\n",
       "     2173,\n",
       "     1.0],\n",
       "    ['League Averages',\n",
       "     'Mid-Range',\n",
       "     'Left Side(L)',\n",
       "     '8-16 ft.',\n",
       "     3005,\n",
       "     3005,\n",
       "     1.0],\n",
       "    ['League Averages',\n",
       "     'Mid-Range',\n",
       "     'Right Side Center(RC)',\n",
       "     '16-24 ft.',\n",
       "     3249,\n",
       "     3249,\n",
       "     1.0],\n",
       "    ['League Averages',\n",
       "     'Mid-Range',\n",
       "     'Right Side(R)',\n",
       "     '16-24 ft.',\n",
       "     1996,\n",
       "     1996,\n",
       "     1.0],\n",
       "    ['League Averages',\n",
       "     'Mid-Range',\n",
       "     'Right Side(R)',\n",
       "     '8-16 ft.',\n",
       "     3011,\n",
       "     3011,\n",
       "     1.0],\n",
       "    ['League Averages',\n",
       "     'Restricted Area',\n",
       "     'Center(C)',\n",
       "     'Less Than 8 ft.',\n",
       "     40634,\n",
       "     40634,\n",
       "     1.0],\n",
       "    ['League Averages',\n",
       "     'Right Corner 3',\n",
       "     'Right Side(R)',\n",
       "     '24+ ft.',\n",
       "     2803,\n",
       "     2803,\n",
       "     1.0]]}]}"
      ]
     },
     "execution_count": 49,
     "metadata": {},
     "output_type": "execute_result"
    }
   ],
   "source": [
    "shot_data"
   ]
  },
  {
   "cell_type": "code",
   "execution_count": 50,
   "metadata": {},
   "outputs": [],
   "source": [
    "# Get the relevant data from our dictionary\n",
    "relevant_data = shot_data['resultSets'][0]"
   ]
  },
  {
   "cell_type": "code",
   "execution_count": 51,
   "metadata": {},
   "outputs": [
    {
     "data": {
      "text/plain": [
       "{'name': 'Shot_Chart_Detail',\n",
       " 'headers': ['GRID_TYPE',\n",
       "  'GAME_ID',\n",
       "  'GAME_EVENT_ID',\n",
       "  'PLAYER_ID',\n",
       "  'PLAYER_NAME',\n",
       "  'TEAM_ID',\n",
       "  'TEAM_NAME',\n",
       "  'PERIOD',\n",
       "  'MINUTES_REMAINING',\n",
       "  'SECONDS_REMAINING',\n",
       "  'EVENT_TYPE',\n",
       "  'ACTION_TYPE',\n",
       "  'SHOT_TYPE',\n",
       "  'SHOT_ZONE_BASIC',\n",
       "  'SHOT_ZONE_AREA',\n",
       "  'SHOT_ZONE_RANGE',\n",
       "  'SHOT_DISTANCE',\n",
       "  'LOC_X',\n",
       "  'LOC_Y',\n",
       "  'SHOT_ATTEMPTED_FLAG',\n",
       "  'SHOT_MADE_FLAG',\n",
       "  'GAME_DATE',\n",
       "  'HTM',\n",
       "  'VTM'],\n",
       " 'rowSet': []}"
      ]
     },
     "execution_count": 51,
     "metadata": {},
     "output_type": "execute_result"
    }
   ],
   "source": [
    "relevant_data"
   ]
  },
  {
   "cell_type": "code",
   "execution_count": 52,
   "metadata": {},
   "outputs": [],
   "source": [
    "# Get the headers and row data\n",
    "headers = relevant_data['headers']\n",
    "rows = relevant_data['rowSet']"
   ]
  },
  {
   "cell_type": "code",
   "execution_count": 53,
   "metadata": {},
   "outputs": [
    {
     "data": {
      "text/plain": [
       "['GRID_TYPE',\n",
       " 'GAME_ID',\n",
       " 'GAME_EVENT_ID',\n",
       " 'PLAYER_ID',\n",
       " 'PLAYER_NAME',\n",
       " 'TEAM_ID',\n",
       " 'TEAM_NAME',\n",
       " 'PERIOD',\n",
       " 'MINUTES_REMAINING',\n",
       " 'SECONDS_REMAINING',\n",
       " 'EVENT_TYPE',\n",
       " 'ACTION_TYPE',\n",
       " 'SHOT_TYPE',\n",
       " 'SHOT_ZONE_BASIC',\n",
       " 'SHOT_ZONE_AREA',\n",
       " 'SHOT_ZONE_RANGE',\n",
       " 'SHOT_DISTANCE',\n",
       " 'LOC_X',\n",
       " 'LOC_Y',\n",
       " 'SHOT_ATTEMPTED_FLAG',\n",
       " 'SHOT_MADE_FLAG',\n",
       " 'GAME_DATE',\n",
       " 'HTM',\n",
       " 'VTM']"
      ]
     },
     "execution_count": 53,
     "metadata": {},
     "output_type": "execute_result"
    }
   ],
   "source": [
    "headers"
   ]
  },
  {
   "cell_type": "code",
   "execution_count": 54,
   "metadata": {},
   "outputs": [
    {
     "data": {
      "text/plain": [
       "[]"
      ]
     },
     "execution_count": 54,
     "metadata": {},
     "output_type": "execute_result"
    }
   ],
   "source": [
    "rows"
   ]
  },
  {
   "cell_type": "code",
   "execution_count": 55,
   "metadata": {},
   "outputs": [
    {
     "ename": "ValueError",
     "evalue": "Length mismatch: Expected axis has 0 elements, new values have 24 elements",
     "output_type": "error",
     "traceback": [
      "\u001b[1;31m---------------------------------------------------------------------------\u001b[0m",
      "\u001b[1;31mValueError\u001b[0m                                Traceback (most recent call last)",
      "\u001b[1;32mc:\\Users\\dcast\\Documents\\Academico\\Ironhack\\DataAnalyticsbootcamp\\project_final\\exploring\\nba\\nba_3.ipynb Cell 16\u001b[0m line \u001b[0;36m3\n\u001b[0;32m      <a href='vscode-notebook-cell:/c%3A/Users/dcast/Documents/Academico/Ironhack/DataAnalyticsbootcamp/project_final/exploring/nba/nba_3.ipynb#X25sZmlsZQ%3D%3D?line=0'>1</a>\u001b[0m \u001b[39m# Create pandas DataFrame\u001b[39;00m\n\u001b[0;32m      <a href='vscode-notebook-cell:/c%3A/Users/dcast/Documents/Academico/Ironhack/DataAnalyticsbootcamp/project_final/exploring/nba/nba_3.ipynb#X25sZmlsZQ%3D%3D?line=1'>2</a>\u001b[0m curry_data \u001b[39m=\u001b[39m pd\u001b[39m.\u001b[39mDataFrame(rows)\n\u001b[1;32m----> <a href='vscode-notebook-cell:/c%3A/Users/dcast/Documents/Academico/Ironhack/DataAnalyticsbootcamp/project_final/exploring/nba/nba_3.ipynb#X25sZmlsZQ%3D%3D?line=2'>3</a>\u001b[0m curry_data\u001b[39m.\u001b[39mcolumns \u001b[39m=\u001b[39m headers\n",
      "File \u001b[1;32mc:\\Users\\dcast\\anaconda3\\Lib\\site-packages\\pandas\\core\\generic.py:5915\u001b[0m, in \u001b[0;36mNDFrame.__setattr__\u001b[1;34m(self, name, value)\u001b[0m\n\u001b[0;32m   5913\u001b[0m \u001b[39mtry\u001b[39;00m:\n\u001b[0;32m   5914\u001b[0m     \u001b[39mobject\u001b[39m\u001b[39m.\u001b[39m\u001b[39m__getattribute__\u001b[39m(\u001b[39mself\u001b[39m, name)\n\u001b[1;32m-> 5915\u001b[0m     \u001b[39mreturn\u001b[39;00m \u001b[39mobject\u001b[39m\u001b[39m.\u001b[39m\u001b[39m__setattr__\u001b[39m(\u001b[39mself\u001b[39m, name, value)\n\u001b[0;32m   5916\u001b[0m \u001b[39mexcept\u001b[39;00m \u001b[39mAttributeError\u001b[39;00m:\n\u001b[0;32m   5917\u001b[0m     \u001b[39mpass\u001b[39;00m\n",
      "File \u001b[1;32mc:\\Users\\dcast\\anaconda3\\Lib\\site-packages\\pandas\\_libs\\properties.pyx:69\u001b[0m, in \u001b[0;36mpandas._libs.properties.AxisProperty.__set__\u001b[1;34m()\u001b[0m\n",
      "File \u001b[1;32mc:\\Users\\dcast\\anaconda3\\Lib\\site-packages\\pandas\\core\\generic.py:823\u001b[0m, in \u001b[0;36mNDFrame._set_axis\u001b[1;34m(self, axis, labels)\u001b[0m\n\u001b[0;32m    821\u001b[0m \u001b[39mdef\u001b[39;00m \u001b[39m_set_axis\u001b[39m(\u001b[39mself\u001b[39m, axis: \u001b[39mint\u001b[39m, labels: AnyArrayLike \u001b[39m|\u001b[39m \u001b[39mlist\u001b[39m) \u001b[39m-\u001b[39m\u001b[39m>\u001b[39m \u001b[39mNone\u001b[39;00m:\n\u001b[0;32m    822\u001b[0m     labels \u001b[39m=\u001b[39m ensure_index(labels)\n\u001b[1;32m--> 823\u001b[0m     \u001b[39mself\u001b[39m\u001b[39m.\u001b[39m_mgr\u001b[39m.\u001b[39mset_axis(axis, labels)\n\u001b[0;32m    824\u001b[0m     \u001b[39mself\u001b[39m\u001b[39m.\u001b[39m_clear_item_cache()\n",
      "File \u001b[1;32mc:\\Users\\dcast\\anaconda3\\Lib\\site-packages\\pandas\\core\\internals\\managers.py:230\u001b[0m, in \u001b[0;36mBaseBlockManager.set_axis\u001b[1;34m(self, axis, new_labels)\u001b[0m\n\u001b[0;32m    228\u001b[0m \u001b[39mdef\u001b[39;00m \u001b[39mset_axis\u001b[39m(\u001b[39mself\u001b[39m, axis: \u001b[39mint\u001b[39m, new_labels: Index) \u001b[39m-\u001b[39m\u001b[39m>\u001b[39m \u001b[39mNone\u001b[39;00m:\n\u001b[0;32m    229\u001b[0m     \u001b[39m# Caller is responsible for ensuring we have an Index object.\u001b[39;00m\n\u001b[1;32m--> 230\u001b[0m     \u001b[39mself\u001b[39m\u001b[39m.\u001b[39m_validate_set_axis(axis, new_labels)\n\u001b[0;32m    231\u001b[0m     \u001b[39mself\u001b[39m\u001b[39m.\u001b[39maxes[axis] \u001b[39m=\u001b[39m new_labels\n",
      "File \u001b[1;32mc:\\Users\\dcast\\anaconda3\\Lib\\site-packages\\pandas\\core\\internals\\base.py:70\u001b[0m, in \u001b[0;36mDataManager._validate_set_axis\u001b[1;34m(self, axis, new_labels)\u001b[0m\n\u001b[0;32m     67\u001b[0m     \u001b[39mpass\u001b[39;00m\n\u001b[0;32m     69\u001b[0m \u001b[39melif\u001b[39;00m new_len \u001b[39m!=\u001b[39m old_len:\n\u001b[1;32m---> 70\u001b[0m     \u001b[39mraise\u001b[39;00m \u001b[39mValueError\u001b[39;00m(\n\u001b[0;32m     71\u001b[0m         \u001b[39mf\u001b[39m\u001b[39m\"\u001b[39m\u001b[39mLength mismatch: Expected axis has \u001b[39m\u001b[39m{\u001b[39;00mold_len\u001b[39m}\u001b[39;00m\u001b[39m elements, new \u001b[39m\u001b[39m\"\u001b[39m\n\u001b[0;32m     72\u001b[0m         \u001b[39mf\u001b[39m\u001b[39m\"\u001b[39m\u001b[39mvalues have \u001b[39m\u001b[39m{\u001b[39;00mnew_len\u001b[39m}\u001b[39;00m\u001b[39m elements\u001b[39m\u001b[39m\"\u001b[39m\n\u001b[0;32m     73\u001b[0m     )\n",
      "\u001b[1;31mValueError\u001b[0m: Length mismatch: Expected axis has 0 elements, new values have 24 elements"
     ]
    }
   ],
   "source": [
    "# Create pandas DataFrame\n",
    "curry_data = pd.DataFrame(rows)\n",
    "curry_data.columns = headers"
   ]
  },
  {
   "cell_type": "code",
   "execution_count": 28,
   "metadata": {},
   "outputs": [],
   "source": [
    "shotlog_lebron = shotchartdetail.ShotChartDetail(team_id = 0, player_id = '2544', \n",
    "context_measure_simple = 'FGA', \n",
    "season_type_all_star = ['Regular Season', 'Playoffs'])"
   ]
  },
  {
   "cell_type": "code",
   "execution_count": 29,
   "metadata": {},
   "outputs": [
    {
     "data": {
      "text/plain": [
       "<nba_api.stats.endpoints.shotchartdetail.ShotChartDetail at 0x16aece3a890>"
      ]
     },
     "execution_count": 29,
     "metadata": {},
     "output_type": "execute_result"
    }
   ],
   "source": [
    "shotlog_lebron"
   ]
  },
  {
   "cell_type": "code",
   "execution_count": null,
   "metadata": {},
   "outputs": [],
   "source": []
  },
  {
   "cell_type": "code",
   "execution_count": 30,
   "metadata": {},
   "outputs": [
    {
     "data": {
      "text/html": [
       "<div>\n",
       "<style scoped>\n",
       "    .dataframe tbody tr th:only-of-type {\n",
       "        vertical-align: middle;\n",
       "    }\n",
       "\n",
       "    .dataframe tbody tr th {\n",
       "        vertical-align: top;\n",
       "    }\n",
       "\n",
       "    .dataframe thead th {\n",
       "        text-align: right;\n",
       "    }\n",
       "</style>\n",
       "<table border=\"1\" class=\"dataframe\">\n",
       "  <thead>\n",
       "    <tr style=\"text-align: right;\">\n",
       "      <th></th>\n",
       "      <th>GRID_TYPE</th>\n",
       "      <th>GAME_ID</th>\n",
       "      <th>GAME_EVENT_ID</th>\n",
       "      <th>PLAYER_ID</th>\n",
       "      <th>PLAYER_NAME</th>\n",
       "      <th>TEAM_ID</th>\n",
       "      <th>TEAM_NAME</th>\n",
       "      <th>PERIOD</th>\n",
       "      <th>MINUTES_REMAINING</th>\n",
       "      <th>SECONDS_REMAINING</th>\n",
       "      <th>...</th>\n",
       "      <th>SHOT_ZONE_AREA</th>\n",
       "      <th>SHOT_ZONE_RANGE</th>\n",
       "      <th>SHOT_DISTANCE</th>\n",
       "      <th>LOC_X</th>\n",
       "      <th>LOC_Y</th>\n",
       "      <th>SHOT_ATTEMPTED_FLAG</th>\n",
       "      <th>SHOT_MADE_FLAG</th>\n",
       "      <th>GAME_DATE</th>\n",
       "      <th>HTM</th>\n",
       "      <th>VTM</th>\n",
       "    </tr>\n",
       "  </thead>\n",
       "  <tbody>\n",
       "  </tbody>\n",
       "</table>\n",
       "<p>0 rows × 24 columns</p>\n",
       "</div>"
      ],
      "text/plain": [
       "Empty DataFrame\n",
       "Columns: [GRID_TYPE, GAME_ID, GAME_EVENT_ID, PLAYER_ID, PLAYER_NAME, TEAM_ID, TEAM_NAME, PERIOD, MINUTES_REMAINING, SECONDS_REMAINING, EVENT_TYPE, ACTION_TYPE, SHOT_TYPE, SHOT_ZONE_BASIC, SHOT_ZONE_AREA, SHOT_ZONE_RANGE, SHOT_DISTANCE, LOC_X, LOC_Y, SHOT_ATTEMPTED_FLAG, SHOT_MADE_FLAG, GAME_DATE, HTM, VTM]\n",
       "Index: []\n",
       "\n",
       "[0 rows x 24 columns]"
      ]
     },
     "execution_count": 30,
     "metadata": {},
     "output_type": "execute_result"
    }
   ],
   "source": [
    "lebron_df = shotlog_lebron.get_data_frames()[0]\n",
    "lebron_df.head(10)"
   ]
  },
  {
   "cell_type": "code",
   "execution_count": 31,
   "metadata": {},
   "outputs": [],
   "source": [
    "lebron_shot_data = json.loads(shotlog_lebron.get_json())"
   ]
  },
  {
   "cell_type": "code",
   "execution_count": 32,
   "metadata": {},
   "outputs": [
    {
     "data": {
      "text/plain": [
       "{'resource': 'shotchartdetail',\n",
       " 'parameters': {'LeagueID': '00',\n",
       "  'Season': None,\n",
       "  'SeasonType': 'Regular Season',\n",
       "  'TeamID': 0,\n",
       "  'PlayerID': 2544,\n",
       "  'GameID': None,\n",
       "  'Outcome': None,\n",
       "  'Location': None,\n",
       "  'Month': 0,\n",
       "  'SeasonSegment': None,\n",
       "  'DateFrom': None,\n",
       "  'DateTo': None,\n",
       "  'OpponentTeamID': 0,\n",
       "  'VsConference': None,\n",
       "  'VsDivision': None,\n",
       "  'Position': None,\n",
       "  'RookieYear': None,\n",
       "  'GameSegment': None,\n",
       "  'Period': 0,\n",
       "  'LastNGames': 0,\n",
       "  'ClutchTime': None,\n",
       "  'AheadBehind': None,\n",
       "  'PointDiff': None,\n",
       "  'RangeType': None,\n",
       "  'StartPeriod': None,\n",
       "  'EndPeriod': None,\n",
       "  'StartRange': None,\n",
       "  'EndRange': None,\n",
       "  'ContextFilter': '',\n",
       "  'ContextMeasure': 'FGA'},\n",
       " 'resultSets': [{'name': 'Shot_Chart_Detail',\n",
       "   'headers': ['GRID_TYPE',\n",
       "    'GAME_ID',\n",
       "    'GAME_EVENT_ID',\n",
       "    'PLAYER_ID',\n",
       "    'PLAYER_NAME',\n",
       "    'TEAM_ID',\n",
       "    'TEAM_NAME',\n",
       "    'PERIOD',\n",
       "    'MINUTES_REMAINING',\n",
       "    'SECONDS_REMAINING',\n",
       "    'EVENT_TYPE',\n",
       "    'ACTION_TYPE',\n",
       "    'SHOT_TYPE',\n",
       "    'SHOT_ZONE_BASIC',\n",
       "    'SHOT_ZONE_AREA',\n",
       "    'SHOT_ZONE_RANGE',\n",
       "    'SHOT_DISTANCE',\n",
       "    'LOC_X',\n",
       "    'LOC_Y',\n",
       "    'SHOT_ATTEMPTED_FLAG',\n",
       "    'SHOT_MADE_FLAG',\n",
       "    'GAME_DATE',\n",
       "    'HTM',\n",
       "    'VTM'],\n",
       "   'rowSet': []},\n",
       "  {'name': 'LeagueAverages',\n",
       "   'headers': ['GRID_TYPE',\n",
       "    'SHOT_ZONE_BASIC',\n",
       "    'SHOT_ZONE_AREA',\n",
       "    'SHOT_ZONE_RANGE',\n",
       "    'FGA',\n",
       "    'FGM',\n",
       "    'FG_PCT'],\n",
       "   'rowSet': []}]}"
      ]
     },
     "execution_count": 32,
     "metadata": {},
     "output_type": "execute_result"
    }
   ],
   "source": [
    "lebron_shot_data"
   ]
  }
 ],
 "metadata": {
  "kernelspec": {
   "display_name": "base",
   "language": "python",
   "name": "python3"
  },
  "language_info": {
   "codemirror_mode": {
    "name": "ipython",
    "version": 3
   },
   "file_extension": ".py",
   "mimetype": "text/x-python",
   "name": "python",
   "nbconvert_exporter": "python",
   "pygments_lexer": "ipython3",
   "version": "3.11.3"
  },
  "orig_nbformat": 4
 },
 "nbformat": 4,
 "nbformat_minor": 2
}
